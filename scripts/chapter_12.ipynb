{
 "cells": [
  {
   "cell_type": "code",
   "execution_count": 242,
   "id": "ccaf3a2e-b455-465e-8f31-b7799d4f8c59",
   "metadata": {},
   "outputs": [],
   "source": [
    "from textblob import TextBlob"
   ]
  },
  {
   "cell_type": "code",
   "execution_count": 243,
   "id": "a34315f0-5889-4854-9116-1c7dc4c690e1",
   "metadata": {},
   "outputs": [],
   "source": [
    "text = \"Today is a beautiful day. Tomorrow looks like bad weather.\""
   ]
  },
  {
   "cell_type": "code",
   "execution_count": 244,
   "id": "7ef24759-ec74-4a1a-bbe9-a588d69ec3d5",
   "metadata": {},
   "outputs": [],
   "source": [
    "blob = TextBlob(text)"
   ]
  },
  {
   "cell_type": "code",
   "execution_count": 245,
   "id": "166549ba-4e29-496b-960c-d1e100e7cd8f",
   "metadata": {},
   "outputs": [
    {
     "data": {
      "text/plain": [
       "TextBlob(\"Today is a beautiful day. Tomorrow looks like bad weather.\")"
      ]
     },
     "execution_count": 245,
     "metadata": {},
     "output_type": "execute_result"
    }
   ],
   "source": [
    "blob"
   ]
  },
  {
   "cell_type": "code",
   "execution_count": 231,
   "id": "38ff7a4a-2926-4f52-8f1c-1195ddcf565c",
   "metadata": {},
   "outputs": [],
   "source": [
    "exercise_blob = TextBlob(\"This is a TextBlob\")"
   ]
  },
  {
   "cell_type": "code",
   "execution_count": 232,
   "id": "81f5d25a-b385-406b-90db-562212b36cb3",
   "metadata": {},
   "outputs": [
    {
     "data": {
      "text/plain": [
       "TextBlob(\"This is a TextBlob\")"
      ]
     },
     "execution_count": 232,
     "metadata": {},
     "output_type": "execute_result"
    }
   ],
   "source": [
    "exercise_blob"
   ]
  },
  {
   "cell_type": "code",
   "execution_count": 233,
   "id": "b461fe11-f1b0-4139-9129-11ac3a91af27",
   "metadata": {},
   "outputs": [
    {
     "data": {
      "text/plain": [
       "[Sentence(\"Today is a beautiful day.\"),\n",
       " Sentence(\"Tomorrow looks like bad weather.\")]"
      ]
     },
     "execution_count": 233,
     "metadata": {},
     "output_type": "execute_result"
    }
   ],
   "source": [
    "blob.sentences"
   ]
  },
  {
   "cell_type": "code",
   "execution_count": 234,
   "id": "bea1ca79-a791-4aee-9f7f-191a2efeb781",
   "metadata": {},
   "outputs": [
    {
     "data": {
      "text/plain": [
       "WordList(['Today', 'is', 'a', 'beautiful', 'day', 'Tomorrow', 'looks', 'like', 'bad', 'weather'])"
      ]
     },
     "execution_count": 234,
     "metadata": {},
     "output_type": "execute_result"
    }
   ],
   "source": [
    "blob.words"
   ]
  },
  {
   "cell_type": "code",
   "execution_count": 200,
   "id": "d86258de-905e-4b70-a407-8843b36f5a2a",
   "metadata": {},
   "outputs": [],
   "source": [
    "ex = TextBlob(\"My old computer is slow. My new one is fast. \")"
   ]
  },
  {
   "cell_type": "code",
   "execution_count": 201,
   "id": "90b74cb9-9011-4d2c-8c5a-bb0888fe8454",
   "metadata": {},
   "outputs": [
    {
     "data": {
      "text/plain": [
       "[Sentence(\"My old computer is slow.\"), Sentence(\"My new one is fast.\")]"
      ]
     },
     "execution_count": 201,
     "metadata": {},
     "output_type": "execute_result"
    }
   ],
   "source": [
    "ex.sentences"
   ]
  },
  {
   "cell_type": "code",
   "execution_count": 202,
   "id": "8db7249b-3f07-4084-83dd-e5d818d4dfc3",
   "metadata": {},
   "outputs": [
    {
     "data": {
      "text/plain": [
       "WordList(['My', 'old', 'computer', 'is', 'slow', 'My', 'new', 'one', 'is', 'fast'])"
      ]
     },
     "execution_count": 202,
     "metadata": {},
     "output_type": "execute_result"
    }
   ],
   "source": [
    "ex.words"
   ]
  },
  {
   "cell_type": "markdown",
   "id": "5e744212-a927-46ee-94bc-665b22c1e069",
   "metadata": {},
   "source": [
    "Part of speech (POS) Tagging:\n",
    "    - is the process of evaluating words based in their context to determine each word's part of speech. There are eight primary english parts of speech - Nouns, pronouns, verbs, adjectives, adverbs, prepositions, conjunctions and interjections)"
   ]
  },
  {
   "cell_type": "code",
   "execution_count": 127,
   "id": "4dfbdc31-06f5-4a73-9372-eb85439f8d5b",
   "metadata": {},
   "outputs": [
    {
     "data": {
      "text/plain": [
       "[('Today', 'NN'),\n",
       " ('is', 'VBZ'),\n",
       " ('a', 'DT'),\n",
       " ('beautiful', 'JJ'),\n",
       " ('day', 'NN'),\n",
       " ('Tomorrow', 'NNP'),\n",
       " ('looks', 'VBZ'),\n",
       " ('like', 'IN'),\n",
       " ('bad', 'JJ'),\n",
       " ('weather', 'NN')]"
      ]
     },
     "execution_count": 127,
     "metadata": {},
     "output_type": "execute_result"
    }
   ],
   "source": [
    "blob.tags #By default TextBlob uses a PattternTagger to determine parts-of-speech"
   ]
  },
  {
   "cell_type": "code",
   "execution_count": 204,
   "id": "238db639-6d3d-4bf4-8013-36dc5ad5a53b",
   "metadata": {},
   "outputs": [],
   "source": [
    "ex2 = TextBlob(\"My dog is cute\")"
   ]
  },
  {
   "cell_type": "code",
   "execution_count": 205,
   "id": "1d091f96-bfa5-4f82-99c0-fbcafe2d65fd",
   "metadata": {},
   "outputs": [
    {
     "data": {
      "text/plain": [
       "[('My', 'PRP$'), ('dog', 'NN'), ('is', 'VBZ'), ('cute', 'JJ')]"
      ]
     },
     "execution_count": 205,
     "metadata": {},
     "output_type": "execute_result"
    }
   ],
   "source": [
    "ex2.tags"
   ]
  },
  {
   "cell_type": "code",
   "execution_count": 203,
   "id": "20bc588a-4a66-4951-a2ee-9555654abbdc",
   "metadata": {},
   "outputs": [
    {
     "data": {
      "text/plain": [
       "TextBlob(\"Today is a beautiful day. Tomorrow looks like bad weather.\")"
      ]
     },
     "execution_count": 203,
     "metadata": {},
     "output_type": "execute_result"
    }
   ],
   "source": [
    "blob"
   ]
  },
  {
   "cell_type": "code",
   "execution_count": 206,
   "id": "5f7cc607-8683-4e1c-b28b-43feb9b8c7ec",
   "metadata": {},
   "outputs": [
    {
     "data": {
      "text/plain": [
       "WordList(['beautiful day', 'tomorrow', 'bad weather'])"
      ]
     },
     "execution_count": 206,
     "metadata": {},
     "output_type": "execute_result"
    }
   ],
   "source": [
    "blob.noun_phrases"
   ]
  },
  {
   "cell_type": "markdown",
   "id": "93722cf0-8dc6-488c-9111-1f4d74e4cf7d",
   "metadata": {},
   "source": [
    "Sentiment Analysis"
   ]
  },
  {
   "cell_type": "code",
   "execution_count": 246,
   "id": "3bb50153-a3db-4667-a31f-dc8c2bfe2e44",
   "metadata": {},
   "outputs": [
    {
     "data": {
      "text/plain": [
       "Sentiment(polarity=0.07500000000000007, subjectivity=0.8333333333333333)"
      ]
     },
     "execution_count": 246,
     "metadata": {},
     "output_type": "execute_result"
    }
   ],
   "source": [
    "\"\"\"\n",
    "Sentiment analysis determines whether text is positive or neutral or negative. This is a complex machine learning problem. \n",
    "However, libraries like TextBlob has pretrained machine learning models for performing sentiment analysis\n",
    "\"\"\"\n",
    "\n",
    "blob.sentiment\n",
    "#Polarity: inidicated sentiment with a value from -1 negative ot 1 positive and 0 as neutral.\n",
    "#subjectiviy is 0 to 1\n",
    "#based on this the overall snetiment is close to neutral and the text is mostly subjective"
   ]
  },
  {
   "cell_type": "code",
   "execution_count": 247,
   "id": "77570677-0f07-4abb-bcfc-b395ef016778",
   "metadata": {},
   "outputs": [
    {
     "data": {
      "text/plain": [
       "'%.3f'"
      ]
     },
     "execution_count": 247,
     "metadata": {},
     "output_type": "execute_result"
    }
   ],
   "source": [
    "#Changing Ipython magic to change the amount of rounding\n",
    "%precision 3 "
   ]
  },
  {
   "cell_type": "code",
   "execution_count": 248,
   "id": "e2cf7106-87bc-4725-badc-7386487433ab",
   "metadata": {},
   "outputs": [
    {
     "data": {
      "text/plain": [
       "0.075"
      ]
     },
     "execution_count": 248,
     "metadata": {},
     "output_type": "execute_result"
    }
   ],
   "source": [
    "blob.sentiment.polarity"
   ]
  },
  {
   "cell_type": "code",
   "execution_count": 210,
   "id": "15eba284-d8d1-4fc7-84f8-d735fef7c221",
   "metadata": {},
   "outputs": [
    {
     "data": {
      "text/plain": [
       "0.833"
      ]
     },
     "execution_count": 210,
     "metadata": {},
     "output_type": "execute_result"
    }
   ],
   "source": [
    "blob.sentiment.subjectivity"
   ]
  },
  {
   "cell_type": "code",
   "execution_count": 249,
   "id": "9e2e1664-fb52-463e-8c88-0426eda45eab",
   "metadata": {},
   "outputs": [
    {
     "name": "stdout",
     "output_type": "stream",
     "text": [
      "Sentiment(polarity=0.85, subjectivity=1.0)\n",
      "Sentiment(polarity=-0.6999999999999998, subjectivity=0.6666666666666666)\n"
     ]
    }
   ],
   "source": [
    "#getting the sentiment of a Sentence\n",
    "for sentence in blob.sentences:\n",
    "    print(sentence.sentiment)"
   ]
  },
  {
   "cell_type": "code",
   "execution_count": 250,
   "id": "581a228f-4d9d-4ee8-86bc-b14b891fc50e",
   "metadata": {},
   "outputs": [
    {
     "data": {
      "text/plain": [
       "Sentiment(polarity=-0.35, subjectivity=0.6000000000000001)"
      ]
     },
     "execution_count": 250,
     "metadata": {},
     "output_type": "execute_result"
    }
   ],
   "source": [
    "from textblob import Sentence\n",
    "Sentence(\"The food is not good\").sentiment"
   ]
  },
  {
   "cell_type": "code",
   "execution_count": 251,
   "id": "f145286e-2e17-4c7f-b783-02f4612fb457",
   "metadata": {},
   "outputs": [
    {
     "data": {
      "text/plain": [
       "Sentiment(polarity=0.3499999999999999, subjectivity=0.6666666666666666)"
      ]
     },
     "execution_count": 251,
     "metadata": {},
     "output_type": "execute_result"
    }
   ],
   "source": [
    "Sentence(\"The moview was not bad\").sentiment"
   ]
  },
  {
   "cell_type": "code",
   "execution_count": 252,
   "id": "3167f53b-f27b-40ec-ace0-aba452e29c8a",
   "metadata": {},
   "outputs": [
    {
     "data": {
      "text/plain": [
       "Sentiment(polarity=1.0, subjectivity=1.0)"
      ]
     },
     "execution_count": 252,
     "metadata": {},
     "output_type": "execute_result"
    }
   ],
   "source": [
    "Sentence(\"The movie was excellent!\").sentiment"
   ]
  },
  {
   "cell_type": "markdown",
   "id": "8dc36dd2-7394-43ae-8be3-02e583ada00b",
   "metadata": {},
   "source": [
    "Using sentiment analysis with Naive Bayes. "
   ]
  },
  {
   "cell_type": "code",
   "execution_count": 253,
   "id": "ece42317-a639-4234-b5ce-abd552f977fa",
   "metadata": {},
   "outputs": [],
   "source": [
    "from textblob.sentiments import NaiveBayesAnalyzer"
   ]
  },
  {
   "cell_type": "code",
   "execution_count": 216,
   "id": "b6e88c22-1960-4094-a579-b8f555bb23e3",
   "metadata": {},
   "outputs": [],
   "source": [
    "blob = TextBlob(text, analyzer=NaiveBayesAnalyzer())"
   ]
  },
  {
   "cell_type": "code",
   "execution_count": 217,
   "id": "bbf7d45c-2591-45dd-b6e8-e529fc894285",
   "metadata": {},
   "outputs": [
    {
     "data": {
      "text/plain": [
       "TextBlob(\"Today is a beautiful day. Tomorrow looks like bad weather.\")"
      ]
     },
     "execution_count": 217,
     "metadata": {},
     "output_type": "execute_result"
    }
   ],
   "source": [
    "blob"
   ]
  },
  {
   "cell_type": "code",
   "execution_count": 218,
   "id": "317aa8f9-f518-4be5-80eb-e82e1cc970d5",
   "metadata": {},
   "outputs": [
    {
     "data": {
      "text/plain": [
       "Sentiment(classification='neg', p_pos=0.47662917962091056, p_neg=0.5233708203790892)"
      ]
     },
     "execution_count": 218,
     "metadata": {},
     "output_type": "execute_result"
    }
   ],
   "source": [
    "blob.sentiment #Overall negative, but it is more neutral since negative is just slightly more than positive"
   ]
  },
  {
   "cell_type": "code",
   "execution_count": 182,
   "id": "a73a5dbd-eaf4-45e9-9cef-7087a5222561",
   "metadata": {},
   "outputs": [
    {
     "name": "stdout",
     "output_type": "stream",
     "text": [
      "Sentiment(classification='pos', p_pos=0.8117563121751951, p_neg=0.18824368782480477)\n",
      "Sentiment(classification='neg', p_pos=0.174363226578349, p_neg=0.8256367734216521)\n"
     ]
    }
   ],
   "source": [
    "for sentence in blob.sentences: ## p_pos and a p_neg values ranges from 0 to 1 \n",
    "    print(sentence.sentiment)"
   ]
  },
  {
   "cell_type": "markdown",
   "id": "ccff0725-1254-4808-b0d4-f5508a1fdb2f",
   "metadata": {},
   "source": [
    "12.2.7 Language Detection and Translation\n",
    "     - Inter-language translation is a challenging problem in natural langugage processing and artificial Intelligence.\n",
    "     - Inter-language translation also is great for people traveling to foreign countries. \n",
    "         ***They can use translation apps to translate menus, road signs and more. \n",
    "         ***There are even efforts at live speech translation so that you'll be able to converse in real time with people who do not know your natural language. \n",
    "         ***With IBM watson and Cognitive Computing chapter, we develop a script that does near real-time inter-language translation among languages supported by Watson.\n",
    "         \n",
    "         \n",
    "       - The TextBlob library uses Google Translate to detect a text's language and translate TextBlobs, Sentences and Words into other languages. Let's use detect_language method to detect the language of the text we're manipulating "
   ]
  },
  {
   "cell_type": "code",
   "execution_count": 241,
   "id": "4b843864-deb3-40a2-92c7-1448f6ba988c",
   "metadata": {},
   "outputs": [
    {
     "data": {
      "text/plain": [
       "TextBlob(\"Today is a beautiful day. Tomorrow looks like bad weather.\")"
      ]
     },
     "execution_count": 241,
     "metadata": {},
     "output_type": "execute_result"
    }
   ],
   "source": [
    "blob"
   ]
  },
  {
   "cell_type": "code",
   "execution_count": 255,
   "id": "c2761e0b-2937-44a7-8ed4-6053b1c70ed5",
   "metadata": {},
   "outputs": [
    {
     "data": {
      "text/plain": [
       "'en'"
      ]
     },
     "execution_count": 255,
     "metadata": {},
     "output_type": "execute_result"
    }
   ],
   "source": [
    "blob.detect_language()"
   ]
  },
  {
   "cell_type": "code",
   "execution_count": 256,
   "id": "171d5d5e-8512-4df8-9c35-965daa6cf3d0",
   "metadata": {},
   "outputs": [],
   "source": [
    "\"\"\"\n",
    "Translate method to translate the text to Spanish. Then detect the language on the result. \n",
    "The to keyword argument specifies the target language.\n",
    "\"\"\"\n",
    "spanish = blob.translate(to='es')"
   ]
  },
  {
   "cell_type": "code",
   "execution_count": 257,
   "id": "f5ee62d7-8efd-4195-a38c-b0ce9a97f724",
   "metadata": {},
   "outputs": [
    {
     "data": {
      "text/plain": [
       "TextBlob(\"Hoy es un hermoso dia. Mañana parece mal tiempo.\")"
      ]
     },
     "execution_count": 257,
     "metadata": {},
     "output_type": "execute_result"
    }
   ],
   "source": [
    "spanish"
   ]
  },
  {
   "cell_type": "code",
   "execution_count": 258,
   "id": "1476ec1e-1765-4029-8bba-d22e8230571d",
   "metadata": {},
   "outputs": [
    {
     "data": {
      "text/plain": [
       "'es'"
      ]
     },
     "execution_count": 258,
     "metadata": {},
     "output_type": "execute_result"
    }
   ],
   "source": [
    "spanish.detect_language()"
   ]
  },
  {
   "cell_type": "code",
   "execution_count": 261,
   "id": "a95a5cce-2d46-4dbe-ae95-90785a5869b1",
   "metadata": {},
   "outputs": [
    {
     "data": {
      "text/plain": [
       "TextBlob(\"Hoy es un hermoso dia. Mañana parece mal tiempo.\")"
      ]
     },
     "execution_count": 261,
     "metadata": {},
     "output_type": "execute_result"
    }
   ],
   "source": [
    "spanish"
   ]
  },
  {
   "cell_type": "code",
   "execution_count": 262,
   "id": "cd009826-1f75-419a-916c-0be653244a17",
   "metadata": {},
   "outputs": [],
   "source": [
    "#translating in chinese\n",
    "chinese = blob.translate(to='zh')\n"
   ]
  },
  {
   "cell_type": "code",
   "execution_count": 263,
   "id": "888f98e4-7d95-443a-bb19-bd221e219b49",
   "metadata": {},
   "outputs": [
    {
     "data": {
      "text/plain": [
       "TextBlob(\"今天是美好的一天。明天看起来天气不好。\")"
      ]
     },
     "execution_count": 263,
     "metadata": {},
     "output_type": "execute_result"
    }
   ],
   "source": [
    "chinese"
   ]
  },
  {
   "cell_type": "code",
   "execution_count": 264,
   "id": "d2dee29d-7fa9-4c83-b74f-719489cb17ad",
   "metadata": {},
   "outputs": [],
   "source": [
    "#Specifying a source language\n",
    "chinese = blob.translate(from_lang='en', to='zh')"
   ]
  },
  {
   "cell_type": "code",
   "execution_count": 265,
   "id": "f9aadcc9-fbba-4aed-af23-116b370759c1",
   "metadata": {},
   "outputs": [
    {
     "data": {
      "text/plain": [
       "TextBlob(\"今天是美好的一天。明天看起来天气不好。\")"
      ]
     },
     "execution_count": 265,
     "metadata": {},
     "output_type": "execute_result"
    }
   ],
   "source": [
    "chinese"
   ]
  },
  {
   "cell_type": "code",
   "execution_count": 268,
   "id": "d8859cde-6f92-4c85-8b33-0849f8a19333",
   "metadata": {},
   "outputs": [
    {
     "data": {
      "text/plain": [
       "TextBlob(\"Today is a beautiful day. The weather looks bad tomorrow.\")"
      ]
     },
     "execution_count": 268,
     "metadata": {},
     "output_type": "execute_result"
    }
   ],
   "source": [
    "#For the supported languages, you'd use these codes as the valures from_lang and to keyword arguments\n",
    "#The following autodetects the source language to English automatically\n",
    "\n",
    "spanish.translate()\n",
    "chinese.translate()"
   ]
  },
  {
   "cell_type": "code",
   "execution_count": 269,
   "id": "6494d643-658e-4b0a-92fc-79e23749ea67",
   "metadata": {},
   "outputs": [],
   "source": [
    "blob = TextBlob(\"Today is a beutiful day\")"
   ]
  },
  {
   "cell_type": "code",
   "execution_count": 270,
   "id": "a3e09910-3e38-4675-bd1c-72a5762be49d",
   "metadata": {},
   "outputs": [],
   "source": [
    "french = blob.translate(to='fr')"
   ]
  },
  {
   "cell_type": "code",
   "execution_count": 275,
   "id": "58a4f03c-328e-46f0-9322-afe0aee3058d",
   "metadata": {},
   "outputs": [
    {
     "data": {
      "text/plain": [
       "TextBlob(\"Aujourd'hui est un beau jour\")"
      ]
     },
     "execution_count": 275,
     "metadata": {},
     "output_type": "execute_result"
    }
   ],
   "source": [
    "french"
   ]
  },
  {
   "cell_type": "code",
   "execution_count": 279,
   "id": "55748f72-bd55-4976-8c76-af75b5a80086",
   "metadata": {},
   "outputs": [
    {
     "data": {
      "text/plain": [
       "'fr'"
      ]
     },
     "execution_count": 279,
     "metadata": {},
     "output_type": "execute_result"
    }
   ],
   "source": [
    "french.detect_language()"
   ]
  },
  {
   "cell_type": "markdown",
   "id": "816a67a8-8676-4cda-904d-f187430437dc",
   "metadata": {},
   "source": [
    "12.2.8 Inflection: Pruralization and Singularization"
   ]
  },
  {
   "cell_type": "code",
   "execution_count": null,
   "id": "b2c5fb27-df95-4d21-8b05-d1e743b2fef4",
   "metadata": {},
   "outputs": [],
   "source": []
  }
 ],
 "metadata": {
  "kernelspec": {
   "display_name": "myproject",
   "language": "python",
   "name": "myproject"
  },
  "language_info": {
   "codemirror_mode": {
    "name": "ipython",
    "version": 3
   },
   "file_extension": ".py",
   "mimetype": "text/x-python",
   "name": "python",
   "nbconvert_exporter": "python",
   "pygments_lexer": "ipython3",
   "version": "3.9.6"
  }
 },
 "nbformat": 4,
 "nbformat_minor": 5
}
